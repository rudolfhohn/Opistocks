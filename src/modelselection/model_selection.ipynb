{
 "cells": [
  {
   "cell_type": "markdown",
   "metadata": {
    "deletable": true,
    "editable": true
   },
   "source": [
    "# Opistocks - Model selection\n",
    "In this notebook we analyze multiple classifiers on multiple datasets to have the best model to perform sentiment analysis on tweets.\n",
    "\n",
    "The different classifiers tested are the following:\n",
    "- SVM linear kernel\n",
    "- SVM RBF kernel\n",
    "- Naive Bayes\n",
    "\n",
    "## Data Analysis\n",
    "There are 4 datasets of tweets, classified, by hand, in sentiment scores. The score range and nature derives from a dataset to the other. Here is a first glance of the datasets.\n",
    "- **self-drive** : 7156 tweets (213 not relevant), scores [1, 5] where 3 is neutral\n",
    "- **text-emotion** : 40k tweets, scores are 13 different emotions {empty, sadness, enthusiasm, neutral, worry, surprise, love, fun, hate, happiness, boredom, relief, anger}, we can associate empty with not relevant (827 tweets)\n",
    "- **apple** : 3886 tweets (82 not relevant), scores {1, 3 5} where 3 is neutral\n",
    "- **airline** : 14641 tweets, scores are 3 words {negative, neutral, positive}\n",
    "In total, we have (7156-213) + (40000-827) + (3886-82) + 14641 = 64561\n",
    "\n",
    "Since we have to use the less precise scale we will have 3 different classes : **positive**, **neutral**, **negative**. We will normalize the classes across all the datasets to perform the model selection. For example, for \"text-emotion\", from the 13 words, we will map them to the 3 classes."
   ]
  },
  {
   "cell_type": "code",
   "execution_count": 67,
   "metadata": {
    "collapsed": false,
    "deletable": true,
    "editable": true
   },
   "outputs": [],
   "source": [
    "import pandas as pd\n",
    "import numpy as np"
   ]
  },
  {
   "cell_type": "code",
   "execution_count": 68,
   "metadata": {
    "collapsed": false,
    "deletable": true,
    "editable": true
   },
   "outputs": [],
   "source": [
    "# self-drive\n",
    "df_sd = pd.read_csv('../data/Twitter-sentiment-self-drive-DFE.csv', encoding='latin1')\n",
    "\n",
    "# remove not relevant tweets\n",
    "df_sd = df_sd[~df_sd['sentiment'].isin(['not_relevant'])]\n",
    "\n",
    "# create the main dataframe by extracting the relevant rows\n",
    "df = pd.concat([df_sd['text'], df_sd['sentiment']], axis=1, keys=['text', 'sentiment'])\n",
    "\n",
    "# normalize the sentiment values ({1; 2; 3; 4; 5} => {-1; 0; 1})\n",
    "df['sentiment'] = df['sentiment'].map({'1':-1, '2':-1, '3':0, '4':1, '5':1})\n",
    "del df_sd"
   ]
  },
  {
   "cell_type": "code",
   "execution_count": 69,
   "metadata": {
    "collapsed": false,
    "deletable": true,
    "editable": true
   },
   "outputs": [],
   "source": [
    "# text-emotion\n",
    "df_te = pd.read_csv('../data/text_emotion.csv')\n",
    "df_te = pd.concat([df_te['content'], df_te['sentiment']], axis=1, keys=['text', 'sentiment'])\n",
    "\n",
    "# remove not relevant tweets\n",
    "df_te = df_te[~df_te['sentiment'].isin(['empty'])]\n",
    "\n",
    "# map words into integer values ({...} => {-1; 0; 1})\n",
    "df_te['sentiment'] = df_te['sentiment'].map({\n",
    "    'sadness':-1, \n",
    "    'enthusiasm':1, \n",
    "    'neutral':0, \n",
    "    'worry':-1, \n",
    "    'surprise':1, \n",
    "    'love':1, \n",
    "    'fun':1, \n",
    "    'hate':-1, \n",
    "    'happiness':1, \n",
    "    'boredom':-1, \n",
    "    'relief':1, \n",
    "    'anger':-1})\n",
    "\n",
    "# append the rows to the main dataframe\n",
    "# df = df.append(df_te)\n",
    "del df_te"
   ]
  },
  {
   "cell_type": "code",
   "execution_count": 70,
   "metadata": {
    "collapsed": false,
    "deletable": true,
    "editable": true
   },
   "outputs": [],
   "source": [
    "# apple\n",
    "df_ap = pd.read_csv('../data/Apple-Twitter-Sentiment-DFE.csv', encoding='latin1')\n",
    "df_ap = pd.concat([df_ap['text'], df_ap['sentiment']], axis=1, keys=['text', 'sentiment'])\n",
    "\n",
    "# remove not relevant tweets\n",
    "df_ap = df_ap[~df_ap['sentiment'].isin(['not_relevant'])]\n",
    "\n",
    "# normalize the sentiment values ({1; 3; 5} => {-1; 0; 1})\n",
    "df_ap['sentiment'] = df_ap['sentiment'].map({'1':-1, '3':0, '5':1})\n",
    "\n",
    "# append the rows to the main dataframe\n",
    "# df = df.append(df_ap)\n",
    "del df_ap"
   ]
  },
  {
   "cell_type": "code",
   "execution_count": 71,
   "metadata": {
    "collapsed": false,
    "deletable": true,
    "editable": true
   },
   "outputs": [],
   "source": [
    "# airline\n",
    "df_ai = pd.read_csv('../data/Airline-Sentiment-2-w-AA.csv', encoding='latin1')\n",
    "df_ai = pd.concat([df_ai['text'], df_ai['airline_sentiment']], axis=1, keys=['text', 'sentiment'])\n",
    "\n",
    "# normalize the sentiment values ({'negative'; 'neutral'; 'positive'} => {-1; 0; 1})\n",
    "df_ai['sentiment'] = df_ai['sentiment'].map({'negative':-1, 'neutral':0, 'positive':1})\n",
    "\n",
    "# append the rows to the main dataframe\n",
    "# df = df.append(df_ai)\n",
    "del df_ai"
   ]
  },
  {
   "cell_type": "code",
   "execution_count": 72,
   "metadata": {
    "collapsed": false,
    "deletable": true,
    "editable": true
   },
   "outputs": [
    {
     "data": {
      "text/html": [
       "<div>\n",
       "<table border=\"1\" class=\"dataframe\">\n",
       "  <thead>\n",
       "    <tr style=\"text-align: right;\">\n",
       "      <th></th>\n",
       "      <th>sentiment</th>\n",
       "    </tr>\n",
       "  </thead>\n",
       "  <tbody>\n",
       "    <tr>\n",
       "      <th>count</th>\n",
       "      <td>6943.000000</td>\n",
       "    </tr>\n",
       "    <tr>\n",
       "      <th>mean</th>\n",
       "      <td>0.159585</td>\n",
       "    </tr>\n",
       "    <tr>\n",
       "      <th>std</th>\n",
       "      <td>0.602642</td>\n",
       "    </tr>\n",
       "    <tr>\n",
       "      <th>min</th>\n",
       "      <td>-1.000000</td>\n",
       "    </tr>\n",
       "    <tr>\n",
       "      <th>25%</th>\n",
       "      <td>0.000000</td>\n",
       "    </tr>\n",
       "    <tr>\n",
       "      <th>50%</th>\n",
       "      <td>0.000000</td>\n",
       "    </tr>\n",
       "    <tr>\n",
       "      <th>75%</th>\n",
       "      <td>1.000000</td>\n",
       "    </tr>\n",
       "    <tr>\n",
       "      <th>max</th>\n",
       "      <td>1.000000</td>\n",
       "    </tr>\n",
       "  </tbody>\n",
       "</table>\n",
       "</div>"
      ],
      "text/plain": [
       "         sentiment\n",
       "count  6943.000000\n",
       "mean      0.159585\n",
       "std       0.602642\n",
       "min      -1.000000\n",
       "25%       0.000000\n",
       "50%       0.000000\n",
       "75%       1.000000\n",
       "max       1.000000"
      ]
     },
     "execution_count": 72,
     "metadata": {},
     "output_type": "execute_result"
    }
   ],
   "source": [
    "# Statistical metrics about the classes\n",
    "df.describe()"
   ]
  },
  {
   "cell_type": "code",
   "execution_count": 73,
   "metadata": {
    "collapsed": false,
    "deletable": true,
    "editable": true
   },
   "outputs": [
    {
     "data": {
      "text/plain": [
       " 0    4245\n",
       " 1    1903\n",
       "-1     795\n",
       "Name: sentiment, dtype: int64"
      ]
     },
     "execution_count": 73,
     "metadata": {},
     "output_type": "execute_result"
    }
   ],
   "source": [
    "# Occurences of the different classes\n",
    "df['sentiment'].value_counts()"
   ]
  },
  {
   "cell_type": "markdown",
   "metadata": {
    "deletable": true,
    "editable": true
   },
   "source": [
    "## Features extraction\n",
    "Now that we have a dataframe containing all the data normalized, we can perform our model selection. In summary, we have 64560 tweets (26428 negatives, 18144 neutrals, 19988 positives) and we want to train a model based on this dataset.\n",
    "\n",
    "However, in order to train the models, we need to choose on which features we will base the classification. Here are the differents feature extraction strategies that are going to be tested:\n",
    "- Count (Bag-of-Words) VS TF-IDF\n",
    "- Stopwords from predefined list VS stopwords from dataset occurences\n",
    "- Unigram VS bigram tokenization\n",
    "- Lowercase VS not lowercase conversion\n",
    "\n",
    "There are 16 different strategies."
   ]
  },
  {
   "cell_type": "code",
   "execution_count": 74,
   "metadata": {
    "collapsed": true,
    "deletable": true,
    "editable": true
   },
   "outputs": [],
   "source": [
    "from sklearn.feature_extraction.text import CountVectorizer, TfidfVectorizer\n",
    "\n",
    "# Array of vectorizers for the feature extraction step\n",
    "vecs = [\n",
    "    CountVectorizer(stop_words='english', ngram_range=(1, 1), lowercase=True),\n",
    "    CountVectorizer(stop_words='english', ngram_range=(1, 1), lowercase=False),\n",
    "    CountVectorizer(stop_words='english', ngram_range=(2, 2), lowercase=True),\n",
    "    CountVectorizer(stop_words='english', ngram_range=(2, 2), lowercase=False),\n",
    "    CountVectorizer(stop_words=None, ngram_range=(1, 1), lowercase=True),\n",
    "    CountVectorizer(stop_words=None, ngram_range=(1, 1), lowercase=False),\n",
    "    CountVectorizer(stop_words=None, ngram_range=(2, 2), lowercase=True),\n",
    "    CountVectorizer(stop_words=None, ngram_range=(2, 2), lowercase=False),\n",
    "    TfidfVectorizer(stop_words='english', ngram_range=(1, 1), lowercase=True),\n",
    "    TfidfVectorizer(stop_words='english', ngram_range=(1, 1), lowercase=False),\n",
    "    TfidfVectorizer(stop_words='english', ngram_range=(2, 2), lowercase=True),\n",
    "    TfidfVectorizer(stop_words='english', ngram_range=(2, 2), lowercase=False),\n",
    "    TfidfVectorizer(stop_words=None, ngram_range=(1, 1), lowercase=True),\n",
    "    TfidfVectorizer(stop_words=None, ngram_range=(1, 1), lowercase=False),\n",
    "    TfidfVectorizer(stop_words=None, ngram_range=(2, 2), lowercase=True),\n",
    "    TfidfVectorizer(stop_words=None, ngram_range=(2, 2), lowercase=False)\n",
    "]\n",
    "\n",
    "def feat(df, vec):\n",
    "    return vec.fit_transform(df['text'].as_matrix()).toarray(), df['sentiment'].as_matrix()"
   ]
  },
  {
   "cell_type": "markdown",
   "metadata": {
    "deletable": true,
    "editable": true
   },
   "source": [
    "## Grid search model selection\n",
    "The GridSearchCV class from scikit-learn does an eshaustive search over specified parameter values for an estimator (e.g. C parameter in SVM). For every batch of features extracted by a specific vectorizer, we will split the set into distinct sets respectively the training set and the testing set (with a 75%-25% size ratio). With these two sets, the grid search find the best model and parameters."
   ]
  },
  {
   "cell_type": "code",
   "execution_count": 75,
   "metadata": {
    "collapsed": false
   },
   "outputs": [],
   "source": [
    "SAMPLE_SIZE = 200\n",
    "# df = df.sample(SAMPLE_SIZE)\n",
    "df['sentiment'] = df['sentiment'].map({-1:1, 0:3, 1:5})\n",
    "df_sample = df.loc[df['sentiment'] == 5].sample(SAMPLE_SIZE).append(df.loc[df['sentiment'] == 3].sample(SAMPLE_SIZE)).append(df.loc[df['sentiment'] == 1].sample(SAMPLE_SIZE))"
   ]
  },
  {
   "cell_type": "code",
   "execution_count": 76,
   "metadata": {
    "collapsed": false,
    "deletable": true,
    "editable": true
   },
   "outputs": [],
   "source": [
    "from sklearn.model_selection import GridSearchCV, train_test_split\n",
    "from sklearn import svm\n",
    "\n",
    "SEED = 17\n",
    "results = []\n",
    "\n",
    "for idx, vec in enumerate(vecs):\n",
    "    curvec = vec\n",
    "    X, y = curvec.fit_transform(df_sample['text'].as_matrix()).toarray(), df_sample['sentiment'].as_matrix()\n",
    "    X_train, X_test, y_train, y_test = train_test_split(X, y, test_size=0.25, random_state=SEED)\n",
    "#     parameters = {'kernel':('linear', 'rbf'), 'C':[0.01, 0.02, 0.05, 0.07, 0.1, 0.2, 0.5, 0.7, 1, 2, 5, 7, 10]}\n",
    "    parameters = {'kernel':('linear', 'rbf'), 'C':[0.01, 0.05, 0.1, 0.5, 1, 5]}\n",
    "    svr = svm.SVC()\n",
    "    clf = GridSearchCV(svr, parameters)\n",
    "    clf.fit(X, y)\n",
    "    results.append(clf.cv_results_)"
   ]
  },
  {
   "cell_type": "code",
   "execution_count": 87,
   "metadata": {
    "collapsed": false,
    "deletable": true,
    "editable": true,
    "scrolled": false
   },
   "outputs": [
    {
     "data": {
      "text/plain": [
       "{'mean_fit_time': array([ 1.44271644,  1.55786633,  1.63301865,  1.49100439,  1.61531035,\n",
       "         1.41975077,  1.42805703,  1.46618001,  1.69956374,  1.58788768,\n",
       "         1.43693972,  1.43090574]),\n",
       " 'mean_score_time': array([ 0.53659654,  0.53115336,  0.5411547 ,  0.5321904 ,  0.54365595,\n",
       "         0.51744556,  0.52568873,  0.54847431,  0.59568866,  0.65606904,\n",
       "         0.51496625,  0.54385432]),\n",
       " 'mean_test_score': array([ 0.38833333,  0.38833333,  0.38833333,  0.38833333,  0.38833333,\n",
       "         0.38833333,  0.39      ,  0.38833333,  0.45      ,  0.38833333,\n",
       "         0.45166667,  0.38833333]),\n",
       " 'mean_train_score': array([ 0.99498747,  0.99498747,  0.99498747,  0.99498747,  0.99498747,\n",
       "         0.99498747,  0.99498747,  0.99498747,  0.99916458,  0.99498747,\n",
       "         1.        ,  0.99498747]),\n",
       " 'param_C': masked_array(data = [0.01 0.01 0.05 0.05 0.1 0.1 0.5 0.5 1 1 5 5],\n",
       "              mask = [False False False False False False False False False False False False],\n",
       "        fill_value = ?),\n",
       " 'param_kernel': masked_array(data = ['linear' 'rbf' 'linear' 'rbf' 'linear' 'rbf' 'linear' 'rbf' 'linear' 'rbf'\n",
       "  'linear' 'rbf'],\n",
       "              mask = [False False False False False False False False False False False False],\n",
       "        fill_value = ?),\n",
       " 'params': ({'C': 0.01, 'kernel': 'linear'},\n",
       "  {'C': 0.01, 'kernel': 'rbf'},\n",
       "  {'C': 0.05, 'kernel': 'linear'},\n",
       "  {'C': 0.05, 'kernel': 'rbf'},\n",
       "  {'C': 0.1, 'kernel': 'linear'},\n",
       "  {'C': 0.1, 'kernel': 'rbf'},\n",
       "  {'C': 0.5, 'kernel': 'linear'},\n",
       "  {'C': 0.5, 'kernel': 'rbf'},\n",
       "  {'C': 1, 'kernel': 'linear'},\n",
       "  {'C': 1, 'kernel': 'rbf'},\n",
       "  {'C': 5, 'kernel': 'linear'},\n",
       "  {'C': 5, 'kernel': 'rbf'}),\n",
       " 'rank_test_score': array([4, 4, 4, 4, 4, 4, 3, 4, 2, 4, 1, 4], dtype=int32),\n",
       " 'split0_test_score': array([ 0.3880597 ,  0.3880597 ,  0.3880597 ,  0.3880597 ,  0.3880597 ,\n",
       "         0.3880597 ,  0.3880597 ,  0.3880597 ,  0.47263682,  0.3880597 ,\n",
       "         0.47761194,  0.3880597 ]),\n",
       " 'split0_train_score': array([ 0.9924812 ,  0.9924812 ,  0.9924812 ,  0.9924812 ,  0.9924812 ,\n",
       "         0.9924812 ,  0.98997494,  0.9924812 ,  0.99749373,  0.9924812 ,\n",
       "         1.        ,  0.9924812 ]),\n",
       " 'split1_test_score': array([ 0.4079602 ,  0.4079602 ,  0.4079602 ,  0.4079602 ,  0.4079602 ,\n",
       "         0.4079602 ,  0.41293532,  0.4079602 ,  0.44776119,  0.4079602 ,\n",
       "         0.44776119,  0.4079602 ]),\n",
       " 'split1_train_score': array([ 0.9924812 ,  0.9924812 ,  0.9924812 ,  0.9924812 ,  0.9924812 ,\n",
       "         0.9924812 ,  0.99498747,  0.9924812 ,  1.        ,  0.9924812 ,\n",
       "         1.        ,  0.9924812 ]),\n",
       " 'split2_test_score': array([ 0.36868687,  0.36868687,  0.36868687,  0.36868687,  0.36868687,\n",
       "         0.36868687,  0.36868687,  0.36868687,  0.42929293,  0.36868687,\n",
       "         0.42929293,  0.36868687]),\n",
       " 'split2_train_score': array([ 1.,  1.,  1.,  1.,  1.,  1.,  1.,  1.,  1.,  1.,  1.,  1.]),\n",
       " 'std_fit_time': array([ 0.0164233 ,  0.15601183,  0.12234151,  0.0047597 ,  0.28453454,\n",
       "         0.00703802,  0.02400656,  0.01411178,  0.30701849,  0.19873982,\n",
       "         0.01821293,  0.01122954]),\n",
       " 'std_score_time': array([ 0.00413547,  0.00782533,  0.02354678,  0.01564319,  0.02436755,\n",
       "         0.00267826,  0.00858179,  0.01537889,  0.06031367,  0.17857052,\n",
       "         0.0055001 ,  0.00628403]),\n",
       " 'std_test_score': array([ 0.01601394,  0.01601394,  0.01601394,  0.01601394,  0.01601394,\n",
       "         0.01601394,  0.01809374,  0.01601394,  0.01774373,  0.01601394,\n",
       "         0.01989498,  0.01601394]),\n",
       " 'std_train_score': array([ 0.00354439,  0.00354439,  0.00354439,  0.00354439,  0.00354439,\n",
       "         0.00354439,  0.00409271,  0.00354439,  0.00118146,  0.00354439,\n",
       "         0.        ,  0.00354439])}"
      ]
     },
     "execution_count": 87,
     "metadata": {},
     "output_type": "execute_result"
    }
   ],
   "source": [
    "clf.cv_results_"
   ]
  },
  {
   "cell_type": "code",
   "execution_count": 78,
   "metadata": {
    "collapsed": false
   },
   "outputs": [
    {
     "name": "stdout",
     "output_type": "stream",
     "text": [
      "             precision    recall  f1-score   support\n",
      "\n",
      "   negative       0.72      0.38      0.50        55\n",
      "    neutral       0.40      0.55      0.46        49\n",
      "   positive       0.38      0.43      0.40        46\n",
      "\n",
      "avg / total       0.51      0.45      0.46       150\n",
      "\n"
     ]
    }
   ],
   "source": [
    "from sklearn.naive_bayes import GaussianNB\n",
    "from sklearn.metrics import classification_report\n",
    "\n",
    "X_train, X_test, y_train, y_test = train_test_split(X, y, test_size=0.25, random_state=SEED)\n",
    "\n",
    "gnb = GaussianNB()\n",
    "y_pred = gnb.fit(X_train, y_train).predict(X_test)\n",
    "target_names = ['negative', 'neutral', 'positive']\n",
    "print(classification_report(y_test, y_pred, target_names=target_names))"
   ]
  },
  {
   "cell_type": "code",
   "execution_count": 79,
   "metadata": {
    "collapsed": false
   },
   "outputs": [
    {
     "data": {
      "text/plain": [
       "array([[21, 19, 15],\n",
       "       [ 4, 27, 18],\n",
       "       [ 4, 22, 20]])"
      ]
     },
     "execution_count": 79,
     "metadata": {},
     "output_type": "execute_result"
    }
   ],
   "source": [
    "from sklearn.metrics import confusion_matrix\n",
    "confusion_matrix(y_test, y_pred)"
   ]
  },
  {
   "cell_type": "code",
   "execution_count": 85,
   "metadata": {
    "collapsed": false,
    "scrolled": false
   },
   "outputs": [
    {
     "data": {
      "text/plain": [
       "[[0.47999999999999998, 10, {'C': 5, 'kernel': 'linear'}],\n",
       " [0.45833333333333331, 6, {'C': 0.5, 'kernel': 'linear'}],\n",
       " [0.39333333333333331, 6, {'C': 0.5, 'kernel': 'linear'}],\n",
       " [0.36499999999999999, 2, {'C': 0.05, 'kernel': 'linear'}],\n",
       " [0.51666666666666672, 10, {'C': 5, 'kernel': 'linear'}],\n",
       " [0.47499999999999998, 4, {'C': 0.1, 'kernel': 'linear'}],\n",
       " [0.44333333333333336, 6, {'C': 0.5, 'kernel': 'linear'}],\n",
       " [0.40500000000000003, 8, {'C': 1, 'kernel': 'linear'}],\n",
       " [0.48499999999999999, 8, {'C': 1, 'kernel': 'linear'}],\n",
       " [0.47499999999999998, 8, {'C': 1, 'kernel': 'linear'}],\n",
       " [0.38500000000000001, 10, {'C': 5, 'kernel': 'linear'}],\n",
       " [0.38166666666666665, 0, {'C': 0.01, 'kernel': 'linear'}],\n",
       " [0.505, 10, {'C': 5, 'kernel': 'linear'}],\n",
       " [0.48166666666666669, 8, {'C': 1, 'kernel': 'linear'}],\n",
       " [0.48166666666666669, 10, {'C': 5, 'kernel': 'linear'}],\n",
       " [0.45166666666666666, 10, {'C': 5, 'kernel': 'linear'}]]"
      ]
     },
     "execution_count": 85,
     "metadata": {},
     "output_type": "execute_result"
    }
   ],
   "source": [
    "best_scores = []\n",
    "for i, r in enumerate(results):\n",
    "    im = np.argmax(r['mean_test_score'])\n",
    "    best_scores.append([np.max(r['mean_test_score']), im, r['params'][im]])\n",
    "best_scores"
   ]
  },
  {
   "cell_type": "code",
   "execution_count": null,
   "metadata": {
    "collapsed": true
   },
   "outputs": [],
   "source": []
  }
 ],
 "metadata": {
  "kernelspec": {
   "display_name": "Python 3",
   "language": "python",
   "name": "python3"
  },
  "language_info": {
   "codemirror_mode": {
    "name": "ipython",
    "version": 3
   },
   "file_extension": ".py",
   "mimetype": "text/x-python",
   "name": "python",
   "nbconvert_exporter": "python",
   "pygments_lexer": "ipython3",
   "version": "3.6.0"
  }
 },
 "nbformat": 4,
 "nbformat_minor": 2
}
