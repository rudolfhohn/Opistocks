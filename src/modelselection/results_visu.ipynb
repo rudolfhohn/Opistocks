{
 "cells": [
  {
   "cell_type": "markdown",
   "metadata": {},
   "source": [
    "# Results visualizer"
   ]
  },
  {
   "cell_type": "code",
   "execution_count": 4,
   "metadata": {
    "collapsed": true
   },
   "outputs": [],
   "source": [
    "import numpy as np\n",
    "import pandas as pd"
   ]
  },
  {
   "cell_type": "code",
   "execution_count": 5,
   "metadata": {
    "collapsed": true
   },
   "outputs": [],
   "source": [
    "import pickle\n",
    "results_svm = pickle.load( open( \"results_svm.p\", \"rb\" ) )\n",
    "results_nb = pickle.load( open( \"results_nb.p\", \"rb\" ) )"
   ]
  },
  {
   "cell_type": "code",
   "execution_count": 7,
   "metadata": {
    "collapsed": false
   },
   "outputs": [
    {
     "data": {
      "text/plain": [
       "[[0.73499999999999999, 6, {'C': 0.5, 'kernel': 'linear'}],\n",
       " [0.72999999999999998, 6, {'C': 0.5, 'kernel': 'linear'}],\n",
       " [0.72499999999999998, 6, {'C': 0.5, 'kernel': 'linear'}],\n",
       " [0.71999999999999997, 0, {'C': 0.01, 'kernel': 'linear'}],\n",
       " [0.72499999999999998, 4, {'C': 0.1, 'kernel': 'linear'}],\n",
       " [0.71999999999999997, 0, {'C': 0.01, 'kernel': 'linear'}],\n",
       " [0.71999999999999997, 0, {'C': 0.01, 'kernel': 'linear'}],\n",
       " [0.71999999999999997, 0, {'C': 0.01, 'kernel': 'linear'}],\n",
       " [0.72999999999999998, 10, {'C': 5, 'kernel': 'linear'}],\n",
       " [0.72499999999999998, 10, {'C': 5, 'kernel': 'linear'}],\n",
       " [0.71999999999999997, 0, {'C': 0.01, 'kernel': 'linear'}],\n",
       " [0.71999999999999997, 0, {'C': 0.01, 'kernel': 'linear'}],\n",
       " [0.72999999999999998, 10, {'C': 5, 'kernel': 'linear'}],\n",
       " [0.72499999999999998, 10, {'C': 5, 'kernel': 'linear'}],\n",
       " [0.71999999999999997, 0, {'C': 0.01, 'kernel': 'linear'}],\n",
       " [0.71999999999999997, 0, {'C': 0.01, 'kernel': 'linear'}]]"
      ]
     },
     "execution_count": 7,
     "metadata": {},
     "output_type": "execute_result"
    }
   ],
   "source": [
    "best_scores = []\n",
    "for i, r in enumerate(results_svm[0]):\n",
    "    best_scores.append([np.max(r['mean_test_score']), r['params'][np.argmax(r['mean_test_score'])]])\n",
    "best_scores"
   ]
  },
  {
   "cell_type": "code",
   "execution_count": 66,
   "metadata": {
    "collapsed": false
   },
   "outputs": [],
   "source": [
    "def classifaction_report_df(report):\n",
    "    report_data = []\n",
    "    lines = report.split('\\n')\n",
    "    for line in lines[2:-3]:\n",
    "        row = {}\n",
    "        row_data = line.split('      ')\n",
    "        row['class'] = row_data[0]\n",
    "        row['precision'] = float(row_data[1])\n",
    "        row['recall'] = float(row_data[2])\n",
    "        row['f1_score'] = float(row_data[3])\n",
    "        row['support'] = float(row_data[4])\n",
    "        report_data.append(row)\n",
    "    \n",
    "    row = {}\n",
    "    row_data = lines[-2].split('      ')\n",
    "    row['class'] = row_data[0]\n",
    "    row['precision'] = float(row_data[1])\n",
    "    row['recall'] = float(row_data[2])\n",
    "    row['f1_score'] = float(row_data[3])\n",
    "    row['support'] = float(row_data[4])\n",
    "    report_data.append(row)\n",
    "    \n",
    "    df = pd.DataFrame.from_dict(report_data)\n",
    "    return df"
   ]
  },
  {
   "cell_type": "code",
   "execution_count": 67,
   "metadata": {
    "collapsed": false
   },
   "outputs": [
    {
     "name": "stdout",
     "output_type": "stream",
     "text": [
      "avg / total       0.58      0.69      0.61       150\n",
      "['avg / total', ' 0.58', '0.69', '0.61', ' 150']\n"
     ]
    },
    {
     "data": {
      "text/html": [
       "<div>\n",
       "<table border=\"1\" class=\"dataframe\">\n",
       "  <thead>\n",
       "    <tr style=\"text-align: right;\">\n",
       "      <th></th>\n",
       "      <th>class</th>\n",
       "      <th>f1_score</th>\n",
       "      <th>precision</th>\n",
       "      <th>recall</th>\n",
       "      <th>support</th>\n",
       "    </tr>\n",
       "  </thead>\n",
       "  <tbody>\n",
       "    <tr>\n",
       "      <th>0</th>\n",
       "      <td>negative</td>\n",
       "      <td>0.00</td>\n",
       "      <td>0.00</td>\n",
       "      <td>0.00</td>\n",
       "      <td>14.0</td>\n",
       "    </tr>\n",
       "    <tr>\n",
       "      <th>1</th>\n",
       "      <td>neutral</td>\n",
       "      <td>0.82</td>\n",
       "      <td>0.73</td>\n",
       "      <td>0.95</td>\n",
       "      <td>104.0</td>\n",
       "    </tr>\n",
       "    <tr>\n",
       "      <th>2</th>\n",
       "      <td>positive</td>\n",
       "      <td>0.18</td>\n",
       "      <td>0.33</td>\n",
       "      <td>0.12</td>\n",
       "      <td>32.0</td>\n",
       "    </tr>\n",
       "    <tr>\n",
       "      <th>3</th>\n",
       "      <td>avg / total</td>\n",
       "      <td>0.61</td>\n",
       "      <td>0.58</td>\n",
       "      <td>0.69</td>\n",
       "      <td>150.0</td>\n",
       "    </tr>\n",
       "  </tbody>\n",
       "</table>\n",
       "</div>"
      ],
      "text/plain": [
       "         class  f1_score  precision  recall  support\n",
       "0     negative      0.00       0.00    0.00     14.0\n",
       "1      neutral      0.82       0.73    0.95    104.0\n",
       "2     positive      0.18       0.33    0.12     32.0\n",
       "3  avg / total      0.61       0.58    0.69    150.0"
      ]
     },
     "execution_count": 67,
     "metadata": {},
     "output_type": "execute_result"
    }
   ],
   "source": [
    "classifaction_report_df(results_nb[0][0])"
   ]
  },
  {
   "cell_type": "code",
   "execution_count": 70,
   "metadata": {
    "collapsed": false
   },
   "outputs": [
    {
     "name": "stdout",
     "output_type": "stream",
     "text": [
      "1\n"
     ]
    }
   ],
   "source": [
    "print(len(results_nb))"
   ]
  },
  {
   "cell_type": "code",
   "execution_count": null,
   "metadata": {
    "collapsed": true
   },
   "outputs": [],
   "source": []
  }
 ],
 "metadata": {
  "kernelspec": {
   "display_name": "Python 3",
   "language": "python",
   "name": "python3"
  },
  "language_info": {
   "codemirror_mode": {
    "name": "ipython",
    "version": 3
   },
   "file_extension": ".py",
   "mimetype": "text/x-python",
   "name": "python",
   "nbconvert_exporter": "python",
   "pygments_lexer": "ipython3",
   "version": "3.6.0"
  }
 },
 "nbformat": 4,
 "nbformat_minor": 2
}
